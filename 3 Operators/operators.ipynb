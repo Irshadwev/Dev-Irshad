{
 "cells": [
  {
   "cell_type": "markdown",
   "id": "214610f1",
   "metadata": {},
   "source": [
    "<center><h1><b>Operators"
   ]
  },
  {
   "cell_type": "markdown",
   "id": "26515848",
   "metadata": {},
   "source": [
    "### Assignment operators"
   ]
  },
  {
   "cell_type": "code",
   "execution_count": 14,
   "id": "da36244a",
   "metadata": {},
   "outputs": [
    {
     "name": "stdout",
     "output_type": "stream",
     "text": [
      "15\n",
      "15\n",
      "10\n"
     ]
    }
   ],
   "source": [
    "# Assigment operators\n",
    "x = 5\n",
    "y = 10  \n",
    "z = x + y\n",
    "print(z)  \n",
    "\n",
    "new_var = z \n",
    "print(new_var)  \n",
    "\n",
    "x += 5 \n",
    "print(x)\n"
   ]
  },
  {
   "cell_type": "markdown",
   "id": "e3511aa5",
   "metadata": {},
   "source": [
    "### Arithmetic operators"
   ]
  },
  {
   "cell_type": "code",
   "execution_count": null,
   "id": "35429f3c",
   "metadata": {},
   "outputs": [
    {
     "name": "stdout",
     "output_type": "stream",
     "text": [
      "Addition 13\n",
      "Subtraction 7\n",
      "Multiplication 30\n",
      "Division 3.3333333333333335\n",
      "Floor Division 3\n",
      "Modulus 1\n",
      "Exponentiation 1000\n"
     ]
    }
   ],
   "source": [
    "# Arithmetic operators\n",
    "x = 10\n",
    "y = 3\n",
    "print( \"Addition\", x + y)  \n",
    "print( \"Subtraction\", x - y)  \n",
    "print( \"Multiplication\", x * y)  \n",
    "print( \"Division\", x / y)  \n",
    "print( \"Floor Division\", x // y)  \n",
    "print( \"Modulus\", x % y)  \n",
    "print( \"Exponentiation\", x ** y)  "
   ]
  },
  {
   "cell_type": "markdown",
   "id": "508670e7",
   "metadata": {},
   "source": [
    "### Comparison Operators"
   ]
  },
  {
   "cell_type": "code",
   "execution_count": null,
   "id": "fc85c858",
   "metadata": {},
   "outputs": [
    {
     "name": "stdout",
     "output_type": "stream",
     "text": [
      "Equal to: False\n",
      "Not equal to: True\n",
      "Greater than: False\n",
      "Less than: True\n",
      "Greater than or equal to: False\n",
      "Less than or equal to: True\n"
     ]
    }
   ],
   "source": [
    "# Comparison operators\n",
    "x,y = 10, 20\n",
    "print(\"Equal to:\", x == y)  \n",
    "print(\"Not equal to:\", x != y)    \n",
    "print(\"Greater than:\", x > y)  \n",
    "print(\"Less than:\", x < y) \n",
    "print(\"Greater than or equal to:\", x >= y)  \n",
    "print(\"Less than or equal to:\", x <= y)  "
   ]
  },
  {
   "cell_type": "markdown",
   "id": "70db5884",
   "metadata": {},
   "source": [
    "### Logical Operators"
   ]
  },
  {
   "cell_type": "code",
   "execution_count": 12,
   "id": "d8f7ab89",
   "metadata": {},
   "outputs": [
    {
     "name": "stdout",
     "output_type": "stream",
     "text": [
      "AND: False\n",
      "OR: True\n",
      "NOT x: False\n"
     ]
    }
   ],
   "source": [
    "# Logical operators  \n",
    "x, y = True, False\n",
    "\n",
    "# AND Operator\n",
    "print(\"AND:\", x and y) \n",
    "\n",
    "# OR Operator\n",
    "print(\"OR:\", x or y)\n",
    "\n",
    "# NOT Operator\n",
    "print(\"NOT x:\", not x) "
   ]
  }
 ],
 "metadata": {
  "kernelspec": {
   "display_name": "Python 3",
   "language": "python",
   "name": "python3"
  },
  "language_info": {
   "codemirror_mode": {
    "name": "ipython",
    "version": 3
   },
   "file_extension": ".py",
   "mimetype": "text/x-python",
   "name": "python",
   "nbconvert_exporter": "python",
   "pygments_lexer": "ipython3",
   "version": "3.13.5"
  }
 },
 "nbformat": 4,
 "nbformat_minor": 5
}
