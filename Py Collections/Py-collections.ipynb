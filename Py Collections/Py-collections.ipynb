{
 "cells": [
  {
   "cell_type": "markdown",
   "id": "e5ed7ee7",
   "metadata": {},
   "source": [
    "## Python Collections"
   ]
  },
  {
   "cell_type": "markdown",
   "id": "87f7f352",
   "metadata": {},
   "source": [
    "### List"
   ]
  },
  {
   "cell_type": "code",
   "execution_count": 23,
   "id": "22fc41af",
   "metadata": {},
   "outputs": [
    {
     "name": "stdout",
     "output_type": "stream",
     "text": [
      "Empty List: [] <class 'list'>\n",
      "Single-Element:  [23] <class 'list'>\n",
      "Number List:  [10, 20, 30, 40, 50] <class 'list'>\n",
      "Mixed List:  ['hello', 123, True, 3.14] <class 'list'>\n"
     ]
    }
   ],
   "source": [
    "#Empty List \n",
    "empty_list= []\n",
    "print('Empty List:', empty_list, type(empty_list))\n",
    "\n",
    "#Single-Element-List\n",
    "single_element_list= [23]\n",
    "print('Single-Element: ', single_element_list, type(single_element_list))\n",
    "\n",
    "#Numbers list\n",
    "list_of_numbers= [10, 20, 30, 40, 50]\n",
    "print('Number List: ', list_of_numbers, type(list_of_numbers))\n",
    "\n",
    "#Mixture List\n",
    "all_in_one_list= ['hello', 123, True, 3.14]\n",
    "print('Mixed List: ', all_in_one_list, type(all_in_one_list))"
   ]
  },
  {
   "cell_type": "code",
   "execution_count": null,
   "id": "527d26d7",
   "metadata": {},
   "outputs": [
    {
     "name": "stdout",
     "output_type": "stream",
     "text": [
      "1st:  20\n",
      "2nd:  40\n",
      "3rd:  40\n",
      "4th:  20\n"
     ]
    }
   ],
   "source": [
    "#Accesing Elements by index number in list\n",
    "first_number= list_of_numbers[1]\n",
    "second_number= list_of_numbers[3]\n",
    "third_number= list_of_numbers[-2]\n",
    "forth_number= list_of_numbers[-4]\n",
    "\n",
    "print('1st: ', first_number)\n",
    "print('2nd: ', second_number)\n",
    "print('3rd: ', third_number)\n",
    "print('4th: ', forth_number)\n"
   ]
  },
  {
   "cell_type": "markdown",
   "id": "d80326d2",
   "metadata": {},
   "source": [
    "#### Adding, Removing, Modify Elements"
   ]
  },
  {
   "cell_type": "code",
   "execution_count": null,
   "id": "61f12f80",
   "metadata": {},
   "outputs": [
    {
     "name": "stdout",
     "output_type": "stream",
     "text": [
      "[10, 20, 30, 40]\n",
      "[10, 20, 30, 40, 50]\n",
      "[10, 20, 18, 30, 40, 50]\n",
      "remove:  50\n",
      "[10, 20, 18, 30]\n",
      "[10, 20, 18]\n",
      "[10, 20, 25]\n"
     ]
    }
   ],
   "source": [
    "#Adding\n",
    "number= [10, 20, 30, 40]\n",
    "print(number)\n",
    "number.append(50)\n",
    "print(number)\n",
    "\n",
    "#Insert\n",
    "number.insert(2, 18)\n",
    "print(number)\n",
    "\n",
    "#Removing\n",
    "remove_element= number.pop()\n",
    "print('remove: ', remove_element)\n",
    "number.pop()\n",
    "print(number)\n",
    "number.remove(30)\n",
    "print(number)\n",
    "\n",
    "#Modify \n",
    "number [2] = 25\n",
    "print(number)  #insert the element to 2-25\n",
    "\n",
    "\n",
    "\n"
   ]
  },
  {
   "cell_type": "markdown",
   "id": "13da89ed",
   "metadata": {},
   "source": [
    "## Collection type\n",
    "### Tuple"
   ]
  },
  {
   "cell_type": "code",
   "execution_count": 19,
   "id": "01c239c2",
   "metadata": {},
   "outputs": [
    {
     "name": "stdout",
     "output_type": "stream",
     "text": [
      "Empty:  () <class 'list'>\n",
      "Single-Element:  (23,) <class 'tuple'>\n",
      "Numbers-Tuple:  (10, 20, 30, 40, 50) <class 'tuple'>\n",
      "Mixed-Tuple:  ('Hello', 23, 3.14, True) <class 'tuple'>\n"
     ]
    }
   ],
   "source": [
    "#Creating Tuple\n",
    "#Empty-Tuple\n",
    "empty_tuple= ()\n",
    "print('Empty: ', empty_tuple, type(empty_list))\n",
    "\n",
    "#Single-Element-Tuple\n",
    "single_element_tuple= (23,)\n",
    "print('Single-Element: ', single_element_tuple, type(single_element_tuple))\n",
    "\n",
    "#Number-Tuple\n",
    "numbers_tuple= (10, 20, 30, 40, 50)\n",
    "print('Numbers-Tuple: ', numbers_tuple, type(numbers_tuple))\n",
    "\n",
    "#Mixed-Tuple\n",
    "mixed_tuple= ('Hello', 23, 3.14, True) \n",
    "print('Mixed-Tuple: ', mixed_tuple, type(mixed_tuple))"
   ]
  },
  {
   "cell_type": "code",
   "execution_count": 36,
   "id": "90b6caa4",
   "metadata": {},
   "outputs": [
    {
     "name": "stdout",
     "output_type": "stream",
     "text": [
      "1st-item: 10\n",
      "2nd-item: 20\n",
      "3rd-item: 30\n",
      "4th-item: 40\n",
      "5th-item: 50\n",
      "Sliced sub tuple:  (30, 40, 50)\n"
     ]
    }
   ],
   "source": [
    "#Accesing Elements by index number in tuple\n",
    "first_item= numbers_tuple[0]\n",
    "seconde_item= numbers_tuple[1]\n",
    "third_item= numbers_tuple[2]\n",
    "forth_item= numbers_tuple[3]\n",
    "fifth_item= numbers_tuple[4]\n",
    "\n",
    "print('1st-item:', first_item) \n",
    "print('2nd-item:', seconde_item) \n",
    "print('3rd-item:', third_item) \n",
    "print('4th-item:', forth_item) \n",
    "print('5th-item:', fifth_item) \n",
    "\n",
    "#Slicing work similarly to list\n",
    "sub_tuple= numbers_tuple[2:]\n",
    "print('Sliced sub tuple: ', sub_tuple)"
   ]
  }
 ],
 "metadata": {
  "kernelspec": {
   "display_name": "Python 3",
   "language": "python",
   "name": "python3"
  },
  "language_info": {
   "codemirror_mode": {
    "name": "ipython",
    "version": 3
   },
   "file_extension": ".py",
   "mimetype": "text/x-python",
   "name": "python",
   "nbconvert_exporter": "python",
   "pygments_lexer": "ipython3",
   "version": "3.13.5"
  }
 },
 "nbformat": 4,
 "nbformat_minor": 5
}
