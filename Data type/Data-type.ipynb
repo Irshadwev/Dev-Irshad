{
 "cells": [
  {
   "cell_type": "markdown",
   "id": "24f798f8",
   "metadata": {},
   "source": [
    "## Data Types"
   ]
  },
  {
   "cell_type": "markdown",
   "id": "12ef639e",
   "metadata": {},
   "source": [
    "### Integer type"
   ]
  },
  {
   "cell_type": "code",
   "execution_count": 1,
   "id": "4b97fedf",
   "metadata": {},
   "outputs": [
    {
     "name": "stdout",
     "output_type": "stream",
     "text": [
      "num4 5656\n",
      "num1 1 <class 'int'>\n",
      "num2 -56 <class 'int'>\n",
      "num3 3132 <class 'int'>\n"
     ]
    }
   ],
   "source": [
    "# Interger type\n",
    "num1= 1\n",
    "num2= -56\n",
    "num3= 3132\n",
    "num4= 5656\n",
    "print(\"num4\", num4)\n",
    "print(\"num1\", num1,  type(num1))\n",
    "print(\"num2\", num2, type(num2))\n",
    "print(\"num3\", num3, type(num3))"
   ]
  },
  {
   "cell_type": "markdown",
   "id": "4b70a14a",
   "metadata": {},
   "source": [
    "###  Float type"
   ]
  },
  {
   "cell_type": "code",
   "execution_count": 1,
   "id": "1c1baf49",
   "metadata": {},
   "outputs": [
    {
     "name": "stdout",
     "output_type": "stream",
     "text": [
      "pi 3.14 <class 'float'>\n",
      "small_float 5.6 <class 'float'>\n",
      "exp_float 150.0 <class 'float'>\n",
      "sqare 1.2\n"
     ]
    }
   ],
   "source": [
    "# Float type\n",
    "pi= 3.14\n",
    "small_float= 5.6\n",
    "exp_float= 1.5e2\n",
    "sqare= 1.2\n",
    "print(\"pi\", pi,  type(pi))\n",
    "print(\"small_float\", small_float, type(small_float))\n",
    "print(\"exp_float\", exp_float, type(exp_float))\n",
    "print(\"sqare\", sqare)"
   ]
  },
  {
   "cell_type": "markdown",
   "id": "1b173125",
   "metadata": {},
   "source": [
    "### String type"
   ]
  },
  {
   "cell_type": "code",
   "execution_count": 2,
   "id": "d043ce39",
   "metadata": {},
   "outputs": [
    {
     "name": "stdout",
     "output_type": "stream",
     "text": [
      "Hello Ahmad <class 'str'>\n",
      "I can use single quote <class 'str'>\n",
      "Lorem Ipsum is simply dummy text of the printing and typesetting industry.\n",
      "Lorem Ipsum has been the industry's standard dummy text ever since the 1500s,\n",
      "when an unknown printer took a galley of type and scrambled it to make a type specimen book. <class 'str'>\n"
     ]
    }
   ],
   "source": [
    "# String type\n",
    "greeting= \"Hello Ahmad\"\n",
    "quotes= 'I can use single quote'\n",
    "mutitext= \"\"\"Lorem Ipsum is simply dummy text of the printing and typesetting industry.\n",
    "Lorem Ipsum has been the industry's standard dummy text ever since the 1500s,\n",
    "when an unknown printer took a galley of type and scrambled it to make a type specimen book.\"\"\"\n",
    "print(greeting, type(greeting))\n",
    "print(quotes, type(quotes))\n",
    "print(mutitext, type(mutitext))"
   ]
  },
  {
   "cell_type": "markdown",
   "id": "192393ba",
   "metadata": {},
   "source": [
    "#### Concatenation, Repition, Indexing and Slicing"
   ]
  },
  {
   "cell_type": "code",
   "execution_count": 3,
   "id": "b5434875",
   "metadata": {},
   "outputs": [
    {
     "name": "stdout",
     "output_type": "stream",
     "text": [
      "Irshad Ahmad\n",
      "My name is: Ali\n",
      "HelloHelloHello\n",
      "h\n",
      "third_character: l\n",
      "fifht_character: apple\n"
     ]
    }
   ],
   "source": [
    "# concatenation\n",
    "first_name= \"Irshad\"\n",
    "last_name= \"Ahmad\"\n",
    "full_name= first_name + \" \" + last_name\n",
    "print(full_name)\n",
    "print('My name is: ' + 'Ali')\n",
    "\n",
    "# Repition\n",
    "Hello_3_time= 'Hello'*3\n",
    "print(Hello_3_time)\n",
    "\n",
    "# Indexing and Slicing\n",
    "greeting= 'hello'\n",
    "fruit= 'apple'\n",
    "first_character= greeting[0]\n",
    "third_character= greeting[3]\n",
    "fifht_character= fruit[0:5]\n",
    "print(first_character)\n",
    "print('third_character:', third_character)\n",
    "print('fifht_character:', fifht_character)"
   ]
  },
  {
   "cell_type": "code",
   "execution_count": 33,
   "metadata": {},
   "outputs": [
    {
     "name": "stdout",
     "output_type": "stream",
     "text": [
      "My age is 19\n"
     ]
    }
   ],
   "source": [
    "age= 19\n",
    "print(f'My age is {age}')"
   ]
  },
  {
   "cell_type": "markdown",
   "id": "8ba32e91",
   "metadata": {},
   "source": [
    "### Boolean type"
   ]
  },
  {
   "cell_type": "code",
   "execution_count": 34,
   "id": "8d1d227b",
   "metadata": {},
   "outputs": [
    {
     "name": "stdout",
     "output_type": "stream",
     "text": [
      "Value of variable: True\n",
      "you like eggs: false\n"
     ]
    }
   ],
   "source": [
    "# Boolean type\n",
    "is_python_easy= 'True'\n",
    "likes_eggs= 'false'\n",
    "print('Value of variable:' , is_python_easy)\n",
    "print('you like eggs:', likes_eggs )\n"
   ]
  },
  {
   "cell_type": "code",
   "execution_count": 35,
   "id": "0b472704",
   "metadata": {},
   "outputs": [
    {
     "name": "stdout",
     "output_type": "stream",
     "text": [
      "yes python is easy\n"
     ]
    }
   ],
   "source": [
    "# Instead of : if is_python_easy==true\n",
    "# Do this\n",
    "if is_python_easy:\n",
    "    print('yes python is easy')"
   ]
  },
  {
   "cell_type": "code",
   "execution_count": 38,
   "id": "848a3d54",
   "metadata": {},
   "outputs": [
    {
     "name": "stdout",
     "output_type": "stream",
     "text": [
      "Are you here: (None,) <class 'tuple'>\n"
     ]
    }
   ],
   "source": [
    "# None type\n",
    "nothing_here= None,\n",
    "print(\"Are you here:\", nothing_here, type(nothing_here))"
   ]
  },
  {
   "cell_type": "code",
   "execution_count": 45,
   "id": "bc4994e0",
   "metadata": {},
   "outputs": [
    {
     "name": "stdout",
     "output_type": "stream",
     "text": [
      "This variable has no value\n"
     ]
    }
   ],
   "source": [
    "if nothing_here:\n",
    "    print(\"This variable has no value\")"
   ]
  }
 ],
 "metadata": {
  "kernelspec": {
   "display_name": "Python 3",
   "language": "python",
   "name": "python3"
  },
  "language_info": {
   "codemirror_mode": {
    "name": "ipython",
    "version": 3
   },
   "file_extension": ".py",
   "mimetype": "text/x-python",
   "name": "python",
   "nbconvert_exporter": "python",
   "pygments_lexer": "ipython3",
   "version": "3.13.5"
  }
 },
 "nbformat": 4,
 "nbformat_minor": 5
}
