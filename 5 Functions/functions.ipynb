{
 "cells": [
  {
   "cell_type": "markdown",
   "id": "11696eaf",
   "metadata": {},
   "source": [
    "<center><h1><b>Functions"
   ]
  },
  {
   "cell_type": "markdown",
   "id": "b82ae35d",
   "metadata": {},
   "source": [
    "<center><h2><b>Built-in-Functions"
   ]
  },
  {
   "cell_type": "code",
   "execution_count": null,
   "id": "d8d14095",
   "metadata": {},
   "outputs": [
    {
     "name": "stdout",
     "output_type": "stream",
     "text": [
      "Hello, World!\n"
     ]
    }
   ],
   "source": [
    "# print( ) function in Python\n",
    "print(\"Hello, World!\")"
   ]
  },
  {
   "cell_type": "code",
   "execution_count": 2,
   "id": "6d0db0ea",
   "metadata": {},
   "outputs": [
    {
     "name": "stdout",
     "output_type": "stream",
     "text": [
      "Hello, !\n"
     ]
    }
   ],
   "source": [
    "# input( ) function in Python\n",
    "name = input(\"Enter your name: \")\n",
    "print(\"Hello, \" + name + \"!\")"
   ]
  },
  {
   "cell_type": "code",
   "execution_count": 3,
   "id": "548f8ddf",
   "metadata": {},
   "outputs": [
    {
     "name": "stdout",
     "output_type": "stream",
     "text": [
      "Your name is of type: <class 'str'>\n"
     ]
    }
   ],
   "source": [
    "# type( ) function in Python\n",
    "print(\"Your name is of type:\", type(name))"
   ]
  },
  {
   "cell_type": "code",
   "execution_count": 4,
   "id": "8da70a67",
   "metadata": {},
   "outputs": [
    {
     "name": "stdout",
     "output_type": "stream",
     "text": [
      "Length of your name is: 0\n"
     ]
    }
   ],
   "source": [
    "# len( ) function in Python\n",
    "print(\"Length of your name is:\", len(name))"
   ]
  },
  {
   "cell_type": "code",
   "execution_count": 9,
   "id": "b3a3d119",
   "metadata": {},
   "outputs": [
    {
     "name": "stdout",
     "output_type": "stream",
     "text": [
      "Next year, you will be 13 years old.\n"
     ]
    }
   ],
   "source": [
    "# int( ) function in Python\n",
    "age = int(input(\"Enter your age: \"))\n",
    "print(\"Next year, you will be\", age + 1, \"years old.\")"
   ]
  },
  {
   "cell_type": "code",
   "execution_count": 10,
   "id": "fb8cb0fe",
   "metadata": {},
   "outputs": [],
   "source": [
    "# float( ) function in Python\n",
    "height = float(input(\"Enter your height in meters: \"))"
   ]
  },
  {
   "cell_type": "code",
   "execution_count": 11,
   "id": "cd766e2f",
   "metadata": {},
   "outputs": [],
   "source": [
    "# str( ) function in Python\n",
    "age_str = str(age)"
   ]
  },
  {
   "cell_type": "code",
   "execution_count": 12,
   "id": "ec038031",
   "metadata": {},
   "outputs": [
    {
     "name": "stdout",
     "output_type": "stream",
     "text": [
      "The maximum of 10, 20, and 30 is: 30\n"
     ]
    }
   ],
   "source": [
    "# max function in Python\n",
    "print(\"The maximum of 10, 20, and 30 is:\", max(10, 20, 30))\n"
   ]
  },
  {
   "cell_type": "code",
   "execution_count": 13,
   "id": "351cb48f",
   "metadata": {},
   "outputs": [
    {
     "name": "stdout",
     "output_type": "stream",
     "text": [
      "Sorted numbers: [1, 2, 5, 9]\n"
     ]
    }
   ],
   "source": [
    "# sorted function in Python\n",
    "numbers = [5, 2, 9, 1]\n",
    "sorted_numbers = sorted(numbers)\n",
    "print(\"Sorted numbers:\", sorted_numbers)"
   ]
  },
  {
   "cell_type": "code",
   "execution_count": 14,
   "id": "59904b7c",
   "metadata": {},
   "outputs": [
    {
     "name": "stdout",
     "output_type": "stream",
     "text": [
      "0\n",
      "1\n",
      "2\n",
      "3\n",
      "4\n"
     ]
    }
   ],
   "source": [
    "# range function in Python\n",
    "for i in range(5):\n",
    "    print(i)"
   ]
  },
  {
   "cell_type": "code",
   "execution_count": null,
   "id": "31946dc1",
   "metadata": {},
   "outputs": [],
   "source": []
  }
 ],
 "metadata": {
  "kernelspec": {
   "display_name": "Python 3",
   "language": "python",
   "name": "python3"
  },
  "language_info": {
   "codemirror_mode": {
    "name": "ipython",
    "version": 3
   },
   "file_extension": ".py",
   "mimetype": "text/x-python",
   "name": "python",
   "nbconvert_exporter": "python",
   "pygments_lexer": "ipython3",
   "version": "3.13.5"
  }
 },
 "nbformat": 4,
 "nbformat_minor": 5
}
