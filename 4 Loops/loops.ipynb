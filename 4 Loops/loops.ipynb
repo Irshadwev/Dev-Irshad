{
 "cells": [
  {
   "cell_type": "markdown",
   "id": "4be60bde",
   "metadata": {},
   "source": [
    "<center><h1><b>Loop "
   ]
  },
  {
   "cell_type": "markdown",
   "id": "76981cf3",
   "metadata": {},
   "source": [
    "### For Loop"
   ]
  },
  {
   "cell_type": "code",
   "execution_count": 8,
   "id": "c67a1c8b",
   "metadata": {},
   "outputs": [
    {
     "name": "stdout",
     "output_type": "stream",
     "text": [
      "1\n",
      "2\n",
      "3\n",
      "4\n",
      "5\n"
     ]
    }
   ],
   "source": [
    "# for item in sequence: \n",
    "#          # process item \n",
    "\n",
    "# Iterating over list\n",
    "number = [1, 2, 3, 4, 5]    # A list of numbers\n",
    "for num in number:          # Loop through each number in the list\n",
    "    print(num)              # Output each number"
   ]
  },
  {
   "cell_type": "markdown",
   "id": "a0ef2926",
   "metadata": {},
   "source": [
    "#### Using enumerate( ) in for loop"
   ]
  },
  {
   "cell_type": "code",
   "execution_count": 5,
   "id": "c282fee5",
   "metadata": {},
   "outputs": [
    {
     "name": "stdout",
     "output_type": "stream",
     "text": [
      "Index: 0: apple\n",
      "Index: 1: banana\n",
      "Index: 2: cherry\n"
     ]
    }
   ],
   "source": [
    "friuts= ['apple', 'banana', 'cherry']\n",
    "for index, fruits in enumerate(friuts): # Enumerate return index and value\n",
    "    print(f\"Index: {index}: {fruits}\")  # Output the index and fruit name"
   ]
  },
  {
   "cell_type": "code",
   "execution_count": 10,
   "id": "816ee728",
   "metadata": {},
   "outputs": [
    {
     "name": "stdout",
     "output_type": "stream",
     "text": [
      "Index: 0: apple\n",
      "Index: 1: banana\n",
      "Index: 2: cherry\n"
     ]
    }
   ],
   "source": [
    "# Wtihout enumerate\n",
    "friuts= ['apple', 'banana', 'cherry']\n",
    "index = 0\n",
    "for index, fruits in enumerate(friuts): # Enumerate return index and value\n",
    "    print(f\"Index: {index}: {fruits}\") \n",
    "index += 1  # Increment index manually"
   ]
  },
  {
   "cell_type": "code",
   "execution_count": 14,
   "id": "3dc1efb5",
   "metadata": {},
   "outputs": [
    {
     "name": "stdout",
     "output_type": "stream",
     "text": [
      "name: Irshad\n",
      "age: 30\n",
      "city: New York\n"
     ]
    }
   ],
   "source": [
    "# Iterating over a dictionary\n",
    "person = {'name': 'Irshad', 'age': 30, 'city': 'New York'}  # A dictionary\n",
    "for key, value in person.items():  # Loop through each key-value pair   \n",
    "    print(f\"{key}: {value}\")  # Output each key and its corresponding value\n"
   ]
  },
  {
   "cell_type": "code",
   "execution_count": 16,
   "id": "abeba5ef",
   "metadata": {},
   "outputs": [
    {
     "name": "stdout",
     "output_type": "stream",
     "text": [
      "Name: Irshad\n",
      "City: New York\n"
     ]
    }
   ],
   "source": [
    "person = {\n",
    "    'Name': 'Irshad',\n",
    "    'City': 'New York'\n",
    "     }  # A dictionary\n",
    "for key, value in person.items():  # Loop through each key-value pair\n",
    "    print(f\"{key}: {value}\")  # Output each key and its corresponding value"
   ]
  },
  {
   "cell_type": "code",
   "execution_count": 19,
   "id": "2dc86994",
   "metadata": {},
   "outputs": [
    {
     "name": "stdout",
     "output_type": "stream",
     "text": [
      "name: Irshad\n",
      "age: New York\n"
     ]
    }
   ],
   "source": [
    "# Iterating over keys-values pairs using .items() \n",
    "person = {'name': 'Irshad', 'age' :'New York'}  # A dictionary\n",
    "for key, value in person.items():  # Loop through each key-value pair\n",
    "    print(f\"{key}: {value}\")       # Output each key and its corresponding value\n",
    "person = {\n",
    "    'Name': 'Irshad',\n",
    "    'City': 'New York'\n",
    "     } "
   ]
  },
  {
   "cell_type": "markdown",
   "id": "4eeefd36",
   "metadata": {},
   "source": [
    "### While Loop"
   ]
  },
  {
   "cell_type": "code",
   "execution_count": 20,
   "id": "ae2c3531",
   "metadata": {},
   "outputs": [
    {
     "name": "stdout",
     "output_type": "stream",
     "text": [
      "Count is: 0\n",
      "Count is: 1\n",
      "Count is: 2\n",
      "Count is: 3\n",
      "Count is: 4\n"
     ]
    }
   ],
   "source": [
    "count = 0\n",
    "while count < 5:  # Continue looping as long as count is less than 5\n",
    "    print(f\"Count is: {count}\")  # Output the current value of count\n",
    "    count += 1  # Increment count by 1 each iteration"
   ]
  }
 ],
 "metadata": {
  "kernelspec": {
   "display_name": "Python 3",
   "language": "python",
   "name": "python3"
  },
  "language_info": {
   "codemirror_mode": {
    "name": "ipython",
    "version": 3
   },
   "file_extension": ".py",
   "mimetype": "text/x-python",
   "name": "python",
   "nbconvert_exporter": "python",
   "pygments_lexer": "ipython3",
   "version": "3.13.5"
  }
 },
 "nbformat": 4,
 "nbformat_minor": 5
}
