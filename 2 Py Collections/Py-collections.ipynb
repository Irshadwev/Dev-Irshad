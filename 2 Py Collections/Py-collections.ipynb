{
 "cells": [
  {
   "cell_type": "markdown",
   "id": "e5ed7ee7",
   "metadata": {},
   "source": [
    "<center><h1><b>Python Collections"
   ]
  },
  {
   "cell_type": "markdown",
   "id": "87f7f352",
   "metadata": {},
   "source": [
    "### List"
   ]
  },
  {
   "cell_type": "code",
   "execution_count": 23,
   "id": "22fc41af",
   "metadata": {},
   "outputs": [
    {
     "name": "stdout",
     "output_type": "stream",
     "text": [
      "Empty List: [] <class 'list'>\n",
      "Single-Element:  [23] <class 'list'>\n",
      "Number List:  [10, 20, 30, 40, 50] <class 'list'>\n",
      "Mixed List:  ['hello', 123, True, 3.14] <class 'list'>\n"
     ]
    }
   ],
   "source": [
    "#Empty List \n",
    "empty_list= []\n",
    "print('Empty List:', empty_list, type(empty_list))\n",
    "\n",
    "#Single-Element-List\n",
    "single_element_list= [23]\n",
    "print('Single-Element: ', single_element_list, type(single_element_list))\n",
    "\n",
    "#Numbers list\n",
    "list_of_numbers= [10, 20, 30, 40, 50]\n",
    "print('Number List: ', list_of_numbers, type(list_of_numbers))\n",
    "\n",
    "#Mixture List\n",
    "all_in_one_list= ['hello', 123, True, 3.14]\n",
    "print('Mixed List: ', all_in_one_list, type(all_in_one_list))"
   ]
  },
  {
   "cell_type": "code",
   "execution_count": null,
   "id": "527d26d7",
   "metadata": {},
   "outputs": [
    {
     "name": "stdout",
     "output_type": "stream",
     "text": [
      "1st:  20\n",
      "2nd:  40\n",
      "3rd:  40\n",
      "4th:  20\n"
     ]
    }
   ],
   "source": [
    "#Accesing Elements by index number in list\n",
    "first_number= list_of_numbers[1]\n",
    "second_number= list_of_numbers[3]\n",
    "third_number= list_of_numbers[-2]\n",
    "forth_number= list_of_numbers[-4]\n",
    "\n",
    "print('1st: ', first_number)\n",
    "print('2nd: ', second_number)\n",
    "print('3rd: ', third_number)\n",
    "print('4th: ', forth_number)\n"
   ]
  },
  {
   "cell_type": "markdown",
   "id": "d80326d2",
   "metadata": {},
   "source": [
    "#### Adding, Removing, Modify Elements"
   ]
  },
  {
   "cell_type": "code",
   "execution_count": null,
   "id": "61f12f80",
   "metadata": {},
   "outputs": [
    {
     "name": "stdout",
     "output_type": "stream",
     "text": [
      "[10, 20, 30, 40]\n",
      "[10, 20, 30, 40, 50]\n",
      "[10, 20, 18, 30, 40, 50]\n",
      "remove:  50\n",
      "[10, 20, 18, 30]\n",
      "[10, 20, 18]\n",
      "[10, 20, 25]\n"
     ]
    }
   ],
   "source": [
    "#Adding\n",
    "number= [10, 20, 30, 40]\n",
    "print(number)\n",
    "number.append(50)\n",
    "print(number)\n",
    "\n",
    "#Insert\n",
    "number.insert(2, 18)\n",
    "print(number)\n",
    "\n",
    "#Removing\n",
    "remove_element= number.pop()\n",
    "print('remove: ', remove_element)\n",
    "number.pop()\n",
    "print(number)\n",
    "number.remove(30)\n",
    "print(number)\n",
    "\n",
    "#Modify \n",
    "number [2] = 25\n",
    "print(number)  #insert the element to 2-25\n",
    "\n",
    "\n",
    "\n"
   ]
  },
  {
   "cell_type": "markdown",
   "id": "13da89ed",
   "metadata": {},
   "source": [
    "## Collection type\n",
    "### Tuple"
   ]
  },
  {
   "cell_type": "code",
   "execution_count": 19,
   "id": "01c239c2",
   "metadata": {},
   "outputs": [
    {
     "name": "stdout",
     "output_type": "stream",
     "text": [
      "Empty:  () <class 'list'>\n",
      "Single-Element:  (23,) <class 'tuple'>\n",
      "Numbers-Tuple:  (10, 20, 30, 40, 50) <class 'tuple'>\n",
      "Mixed-Tuple:  ('Hello', 23, 3.14, True) <class 'tuple'>\n"
     ]
    }
   ],
   "source": [
    "#Creating Tuple\n",
    "#Empty-Tuple\n",
    "empty_tuple= ()\n",
    "print('Empty: ', empty_tuple, type(empty_list))\n",
    "\n",
    "#Single-Element-Tuple\n",
    "single_element_tuple= (23,)\n",
    "print('Single-Element: ', single_element_tuple, type(single_element_tuple))\n",
    "\n",
    "#Number-Tuple\n",
    "numbers_tuple= (10, 20, 30, 40, 50)\n",
    "print('Numbers-Tuple: ', numbers_tuple, type(numbers_tuple))\n",
    "\n",
    "#Mixed-Tuple\n",
    "mixed_tuple= ('Hello', 23, 3.14, True) \n",
    "print('Mixed-Tuple: ', mixed_tuple, type(mixed_tuple))"
   ]
  },
  {
   "cell_type": "code",
   "execution_count": 36,
   "id": "90b6caa4",
   "metadata": {},
   "outputs": [
    {
     "name": "stdout",
     "output_type": "stream",
     "text": [
      "1st-item: 10\n",
      "2nd-item: 20\n",
      "3rd-item: 30\n",
      "4th-item: 40\n",
      "5th-item: 50\n",
      "Sliced sub tuple:  (30, 40, 50)\n"
     ]
    }
   ],
   "source": [
    "#Accesing Elements by index number in tuple\n",
    "first_item= numbers_tuple[0]\n",
    "seconde_item= numbers_tuple[1]\n",
    "third_item= numbers_tuple[2]\n",
    "forth_item= numbers_tuple[3]\n",
    "fifth_item= numbers_tuple[4]\n",
    "\n",
    "print('1st-item:', first_item) \n",
    "print('2nd-item:', seconde_item) \n",
    "print('3rd-item:', third_item) \n",
    "print('4th-item:', forth_item) \n",
    "print('5th-item:', fifth_item) \n",
    "\n",
    "#Slicing work similarly to list\n",
    "sub_tuple= numbers_tuple[2:]\n",
    "print('Sliced sub tuple: ', sub_tuple)"
   ]
  },
  {
   "cell_type": "markdown",
   "id": "3050a52f",
   "metadata": {},
   "source": [
    "### Immutibility"
   ]
  },
  {
   "cell_type": "code",
   "execution_count": null,
   "id": "7a338323",
   "metadata": {},
   "outputs": [
    {
     "name": "stdout",
     "output_type": "stream",
     "text": [
      "Error: 'tuple' object does not support item assignment\n"
     ]
    }
   ],
   "source": [
    "# Try to modify a tuple will rise errors\n",
    "numbers_tuple= (11, 22, 33) \n",
    "try: \n",
    "    numbers_tuple[1] = 99 #This is not allowed to store value in the tuple. Because it is immutable.\n",
    "except TypeError as e: \n",
    "    print('Error:', e) "
   ]
  },
  {
   "cell_type": "code",
   "execution_count": null,
   "id": "8e101877",
   "metadata": {},
   "outputs": [
    {
     "name": "stdout",
     "output_type": "stream",
     "text": [
      "Name: John\n",
      "Age: 30\n",
      "Profession: Engineer\n"
     ]
    }
   ],
   "source": [
    "# Unpacking a tuple into seperate variables\n",
    "person_tuple = (\"Irshad Amad\", 19, \"Python Engineer\") #create tuple with different data types.\n",
    "name, age, profession = person_tuple # store value of tuple to variables name, age, profession\n",
    "#Unpack in order \n",
    "print(\"Name:\", name)\n",
    "print(\"Age:\", age)\n",
    "print(\"Profession:\", profession)"
   ]
  },
  {
   "cell_type": "markdown",
   "id": "d1f0cdf3",
   "metadata": {},
   "source": [
    "### Dictionary"
   ]
  },
  {
   "cell_type": "code",
   "execution_count": null,
   "id": "f9568e52",
   "metadata": {},
   "outputs": [
    {
     "name": "stdout",
     "output_type": "stream",
     "text": [
      "Empty Dictionary: {} <class 'dict'>\n",
      "Person Info: {'Name': 'Ali', 'age': 25, 'profession': 'Engineer'} <class 'dict'>\n",
      "Another Dictionary: {'city': 'london', 'country': 'UK'} <class 'dict'>\n"
     ]
    }
   ],
   "source": [
    "#Creating Dictionary\n",
    "# Empty Dictionary\n",
    "empty_dict = {}\n",
    "print('Empty Dictionary:', empty_dict, type(empty_dict))\n",
    "\n",
    "# Person Dictionary\n",
    "person_dict = {\"Name\" : \"Ali\", \"age\": 25, \"profession\": \"Engineer\"} \n",
    "# Name is a key work act as a variable. Ali is a value that store into the key\n",
    "print('Person Info:', person_dict, type(person_dict))\n",
    "\n",
    "#Another way to create a dictionary\n",
    "another_dict = dict(city= 'london', country= 'UK') # Another way to create an dictionary\n",
    "# city and country are keys, 'london' and 'UK' are their respective values\n",
    "print('Another Dictionary:', another_dict, type(another_dict))"
   ]
  },
  {
   "cell_type": "code",
   "execution_count": 22,
   "id": "004f3475",
   "metadata": {},
   "outputs": [
    {
     "name": "stdout",
     "output_type": "stream",
     "text": [
      "Name: Ali\n",
      "Age: 25\n",
      "Profession: Engineer\n",
      "City: london\n",
      "Country: UK\n"
     ]
    }
   ],
   "source": [
    "#Accessing Dictionary Elements by their Keys\n",
    "print('Name:', person_dict['Name'])\n",
    "print('Age:', person_dict.get('age'))\n",
    "print('Profession:', person_dict['profession'])\n",
    "\n",
    "# Accessing elements in another_dict\n",
    "print('City:', another_dict['city'])\n",
    "print('Country:', another_dict['country'])"
   ]
  },
  {
   "cell_type": "markdown",
   "id": "c30fab5c",
   "metadata": {},
   "source": [
    "#### Adding,Updaing, and Removing key"
   ]
  },
  {
   "cell_type": "code",
   "execution_count": 29,
   "id": "b95d3a36",
   "metadata": {},
   "outputs": [
    {
     "name": "stdout",
     "output_type": "stream",
     "text": [
      "Removed element: None\n",
      "Person-info: {'Name': 'Ali', 'profession': 'Engineer', 'city': 'Karachi'}\n"
     ]
    }
   ],
   "source": [
    "#Adding and updating a key value pair\n",
    "person_dict['city'] = 'Karachi' # Adding city if it does not exist as a new key-value pair\n",
    "\n",
    "#Removing key-value pair\n",
    "remove_element= person_dict.pop('age', None) # Removes age if it exists and return is value\n",
    "print('Removed element:', remove_element)\n",
    "\n",
    "\n",
    "#Check if a key exists\n",
    "if 'age' in person_dict: # check if a key exist by condition\n",
    "    print(\"Age key has been removed.\")\n",
    "print('Person-info:', person_dict)"
   ]
  },
  {
   "cell_type": "markdown",
   "id": "132f6dfc",
   "metadata": {},
   "source": [
    "### Sets"
   ]
  },
  {
   "cell_type": "code",
   "execution_count": 36,
   "id": "8d84d173",
   "metadata": {},
   "outputs": [
    {
     "name": "stdout",
     "output_type": "stream",
     "text": [
      "Empty Set: set() <class 'set'>\n",
      "Number Set: {50, 20, 40, 10, 30} <class 'set'>\n",
      "Mixed Set: {(1, 2), 10, 3.14, 'Hello'} <class 'set'>\n"
     ]
    }
   ],
   "source": [
    "#Creating sets\n",
    "\n",
    "#Empty set\n",
    "empty_set = set() \n",
    "print('Empty Set:', empty_set, type(empty_set))\n",
    "\n",
    "#Number set\n",
    "number_set = {10, 20, 30, 40, 50, 40} #Duplicate are removes automatically\n",
    "print('Number Set:', number_set, type(number_set))\n",
    "\n",
    "#Mixed set\n",
    "mixed_set = {10, \"Hello\", 3.14, (1, 2)} # You can store immutable types like tuple\n",
    "print('Mixed Set:', mixed_set, type(mixed_set))"
   ]
  },
  {
   "cell_type": "markdown",
   "id": "0fd181b5",
   "metadata": {},
   "source": [
    "#### Adding,Updaing, and Removing Elements"
   ]
  },
  {
   "cell_type": "code",
   "execution_count": 40,
   "id": "fccc914d",
   "metadata": {},
   "outputs": [
    {
     "name": "stdout",
     "output_type": "stream",
     "text": [
      "Final Number Set: {50, 40, 10, 60}\n"
     ]
    }
   ],
   "source": [
    "# Adding number in set \n",
    "number_set.add(60) # Adding 60 element to the set\n",
    "# print('Updated Number Set:', number_set, type(number_set))\n",
    "\n",
    "#Discard number \n",
    "number_set.discard(20) # Discard 20 element from the set \n",
    "# print('After Discarding 20:', number_set)\n",
    "\n",
    "#Removing number \n",
    "#number_set.remove(30) # Remove 30 element from the set\n",
    "# print('After Removing 30:', number_set)\n",
    "\n",
    "print('Final Number Set:', number_set)"
   ]
  },
  {
   "cell_type": "markdown",
   "id": "15004384",
   "metadata": {},
   "source": [
    "#### Set Operations"
   ]
  },
  {
   "cell_type": "code",
   "execution_count": 42,
   "id": "b558cc80",
   "metadata": {},
   "outputs": [
    {
     "name": "stdout",
     "output_type": "stream",
     "text": [
      "Union: {50, 20, 40, 10, 30}\n",
      "Intersection: {20}\n",
      "Difference: {10, 30}\n",
      "Symmetric Difference: {40, 10, 50, 30}\n"
     ]
    }
   ],
   "source": [
    "#set operation creation \n",
    "\n",
    "set_a = {10, 20, 30}\n",
    "set_b = {20, 40, 50}\n",
    "\n",
    "#Union all element from both sides\n",
    "print('Union:', set_a.union(set_b)) # Union of set a and b \n",
    "# or set_a | set_b \n",
    "\n",
    "#Intersection: Elements common to both\n",
    "print('Intersection:', set_a.intersection(set_b)) # Intersection of set a and b\n",
    "# or set_a & set_b\n",
    "\n",
    "#Difference: Elements in a but set_a not in set_b\n",
    "print('Difference:', set_a.difference(set_b)) # Difference of set a and b\n",
    "# or set_a - set_b\n",
    "\n",
    "#Symmetric Difference: Elements in either set_a or set_b but not in both\n",
    "print('Symmetric Difference:', set_a.symmetric_difference(set_b)) # Symmetric difference of set a and b\n",
    "# or set_a ^ set_b"
   ]
  }
 ],
 "metadata": {
  "kernelspec": {
   "display_name": "Python 3",
   "language": "python",
   "name": "python3"
  },
  "language_info": {
   "codemirror_mode": {
    "name": "ipython",
    "version": 3
   },
   "file_extension": ".py",
   "mimetype": "text/x-python",
   "name": "python",
   "nbconvert_exporter": "python",
   "pygments_lexer": "ipython3",
   "version": "3.13.5"
  }
 },
 "nbformat": 4,
 "nbformat_minor": 5
}
